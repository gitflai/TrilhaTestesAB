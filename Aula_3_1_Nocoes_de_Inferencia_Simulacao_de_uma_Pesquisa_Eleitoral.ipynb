{
  "nbformat": 4,
  "nbformat_minor": 0,
  "metadata": {
    "colab": {
      "name": "Aula 3.1 - Nocoes de Inferencia - Simulacao de uma Pesquisa Eleitoral",
      "provenance": [],
      "toc_visible": true,
      "include_colab_link": true
    },
    "kernelspec": {
      "name": "python3",
      "display_name": "Python 3"
    },
    "language_info": {
      "name": "python"
    }
  },
  "cells": [
    {
      "cell_type": "markdown",
      "metadata": {
        "id": "view-in-github",
        "colab_type": "text"
      },
      "source": [
        "<a href=\"https://colab.research.google.com/github/gitflai/TrilhaTestesAB/blob/main/Aula_3_1_Nocoes_de_Inferencia_Simulacao_de_uma_Pesquisa_Eleitoral.ipynb\" target=\"_parent\"><img src=\"https://colab.research.google.com/assets/colab-badge.svg\" alt=\"Open In Colab\"/></a>"
      ]
    },
    {
      "cell_type": "markdown",
      "metadata": {
        "id": "0Lf1CwoQDOFS"
      },
      "source": [
        "Trilha de Aprofundamento: **Testes A/B**\n",
        "\n",
        "Curso 3/5: **Noções de Inferência Estatística**"
      ]
    },
    {
      "cell_type": "markdown",
      "metadata": {
        "id": "aqc2tnu5_uFO"
      },
      "source": [
        "# **Aula 3.1 - Noções de Inferência - Simulação de uma Pesquisa Eleitoral**\n"
      ]
    },
    {
      "cell_type": "markdown",
      "metadata": {
        "id": "o0xk4ZlZV6wv"
      },
      "source": [
        "## **Primeiro exemplo: Você sabe calcular uma média?**"
      ]
    },
    {
      "cell_type": "markdown",
      "metadata": {
        "id": "y8kACO0aV_m1"
      },
      "source": [
        "$$ \\mbox{Media}(X_1, ..., X_n) = \\frac{1}{n}\\sum_{i=1}^nX_i $$ "
      ]
    },
    {
      "cell_type": "code",
      "metadata": {
        "colab": {
          "base_uri": "https://localhost:8080/"
        },
        "id": "fvJHyWldWH6s",
        "outputId": "5fd324a5-11e7-40a7-e398-7e7cd82990f3"
      },
      "source": [
        "(34 + 33 + 35)/3"
      ],
      "execution_count": null,
      "outputs": [
        {
          "output_type": "execute_result",
          "data": {
            "text/plain": [
              "34.0"
            ]
          },
          "metadata": {
            "tags": []
          },
          "execution_count": 1
        }
      ]
    },
    {
      "cell_type": "code",
      "metadata": {
        "id": "kZHBm8wsWZXh"
      },
      "source": [
        "notas = [9.4, 9.2, 8.1, ... , 1.2]"
      ],
      "execution_count": null,
      "outputs": []
    },
    {
      "cell_type": "code",
      "metadata": {
        "id": "KiMh_9OUWyWv"
      },
      "source": [
        "200.000.000+"
      ],
      "execution_count": null,
      "outputs": []
    },
    {
      "cell_type": "code",
      "metadata": {
        "colab": {
          "base_uri": "https://localhost:8080/"
        },
        "id": "PRxl1xk2XFir",
        "outputId": "1c29d393-613c-4d0c-937f-8c06999a7450"
      },
      "source": [
        "%%time\n",
        "\n",
        "import scipy.stats as ss\n",
        "vetor = ss.poisson.rvs(mu = 5, size = 1_000_000_000)"
      ],
      "execution_count": null,
      "outputs": [
        {
          "output_type": "stream",
          "text": [
            "CPU times: user 9.3 s, sys: 293 ms, total: 9.59 s\n",
            "Wall time: 9.8 s\n"
          ],
          "name": "stdout"
        }
      ]
    },
    {
      "cell_type": "code",
      "metadata": {
        "colab": {
          "base_uri": "https://localhost:8080/"
        },
        "id": "qZnxYKavXcJy",
        "outputId": "3858b9e8-05c4-48d8-835c-dc76a3483098"
      },
      "source": [
        "%%time\n",
        "print('media:', vetor.mean())"
      ],
      "execution_count": null,
      "outputs": [
        {
          "output_type": "stream",
          "text": [
            "media: 5.00003357\n",
            "CPU times: user 95.8 ms, sys: 872 µs, total: 96.6 ms\n",
            "Wall time: 98.8 ms\n"
          ],
          "name": "stdout"
        }
      ]
    },
    {
      "cell_type": "markdown",
      "metadata": {
        "id": "ATjjOH9Vccw2"
      },
      "source": [
        "## **Segundo exemplo: Simulação de uma pesquisa eleitoral**"
      ]
    },
    {
      "cell_type": "code",
      "metadata": {
        "id": "1dJDvK35czz3"
      },
      "source": [
        "n = 150_000_000"
      ],
      "execution_count": null,
      "outputs": []
    },
    {
      "cell_type": "code",
      "metadata": {
        "id": "GbdSEoledAwn"
      },
      "source": [
        "cand = ['A', 'B', 'C', 'D']\n",
        "\n",
        "#real = [0.25, 0.25, 0.25, 0.25]\n",
        "#real = [0.50, 0.35, 0.10, 0.05]\n",
        "real = [0.40, 0.30, 0.20, 0.10]"
      ],
      "execution_count": null,
      "outputs": []
    },
    {
      "cell_type": "code",
      "metadata": {
        "id": "srD3__A1tXfX"
      },
      "source": [
        "pa = int(n*real[0])\n",
        "pb = int(n*real[1])\n",
        "pc = int(n*real[2])\n",
        "pd = int(n*real[3])\n",
        "\n",
        "pop = ['A']*pa + ['B']*pb + ['C']*pc + ['D']*pd"
      ],
      "execution_count": null,
      "outputs": []
    },
    {
      "cell_type": "code",
      "metadata": {
        "id": "iXJRfbP7d1XS"
      },
      "source": [
        "# desafio numa pesquisa de intenção de votos:\n",
        "# determinar a distribuição de intenção de votos da população, sem olhar para a população inteira"
      ],
      "execution_count": null,
      "outputs": []
    },
    {
      "cell_type": "code",
      "metadata": {
        "colab": {
          "base_uri": "https://localhost:8080/"
        },
        "id": "t3d-x1otfQln",
        "outputId": "9273912f-9743-457c-d405-c0185c9eac1e"
      },
      "source": [
        "import random\n",
        "S = 500\n",
        "\n",
        "amostra = random.sample(pop, k = S)\n",
        "\n",
        "import numpy as np\n",
        "\n",
        "a = amostra.count('A')/S\n",
        "b = amostra.count('B')/S\n",
        "c = amostra.count('C')/S\n",
        "d = amostra.count('D')/S\n",
        "\n",
        "estimativas = [a, b, c, d]\n",
        "erros = np.array(estimativas) - np.array(real)\n",
        "r = np.all(abs(erros) < 0.02)\n",
        "\n",
        "print('Estimativas:', estimativas)\n",
        "print('Erros:', erros)\n",
        "print('Margem de Erro de +-2%:', r ) \n",
        "\n"
      ],
      "execution_count": null,
      "outputs": [
        {
          "output_type": "stream",
          "text": [
            "Estimativas: [0.284, 0.242, 0.23, 0.244]\n",
            "Erros: [-0.216 -0.108  0.13   0.194]\n",
            "Margem de Erro de +-2%: False\n"
          ],
          "name": "stdout"
        }
      ]
    },
    {
      "cell_type": "code",
      "metadata": {
        "colab": {
          "base_uri": "https://localhost:8080/"
        },
        "id": "l9xkHAv3fE-a",
        "outputId": "4ede840a-938a-4acd-c7ca-26be88c8a3ff"
      },
      "source": [
        "Replicas = 1000\n",
        "S = 3000\n",
        "res = []\n",
        "for i in range(Replicas):\n",
        "    amostra = random.sample(pop, k = S)\n",
        "    a = amostra.count('A')/S\n",
        "    b = amostra.count('B')/S\n",
        "    c = amostra.count('C')/S\n",
        "    d = amostra.count('D')/S\n",
        "    estimativas = [a, b, c, d]\n",
        "    erros = np.array(estimativas) - np.array(real)\n",
        "    r = np.all(abs(erros) < 0.02) \n",
        "    res.append(r)\n",
        "\n",
        "confianca = np.array(res).mean()\n",
        "print('Tamanho da População:', n )\n",
        "print('Tamanho da Amostra:', S )\n",
        "print('Margem de Erro Estabelecida: 2%')\n",
        "print('Confiança na Estatística:', confianca)"
      ],
      "execution_count": null,
      "outputs": [
        {
          "output_type": "stream",
          "text": [
            "Tamanho da População: 150000000\n",
            "Tamanho da Amostra: 3000\n",
            "Margem de Erro Estabelecida: 2%\n",
            "Confiança na Estatística: 0.949\n"
          ],
          "name": "stdout"
        }
      ]
    }
  ]
}